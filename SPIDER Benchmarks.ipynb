{
 "cells": [
  {
   "cell_type": "code",
   "execution_count": 13,
   "metadata": {},
   "outputs": [],
   "source": [
    "import numpy as np\n",
    "import scipy.sparse as sp\n",
    "\n",
    "from sklearn.linear_model import LogisticRegression\n",
    "from sklearn.model_selection import train_test_split\n",
    "from sklearn.metrics import confusion_matrix, accuracy_score, precision_score, recall_score\n",
    "\n",
    "from imblearn.datasets import fetch_datasets\n",
    "from imblearn.under_sampling import NeighbourhoodCleaningRule\n",
    "from imblearn.over_sampling import SMOTE\n",
    "from imblearn.combine import SPIDER\n",
    "\n",
    "\n",
    "name = 'isolet'\n",
    "dataset = fetch_datasets()[name]\n",
    "X, y = dataset.data, dataset.target\n",
    "X_tr, X_te, y_tr, y_te = train_test_split(X, y, test_size=0.2, stratify=y)\n",
    "\n",
    "logreg = LogisticRegression(solver='lbfgs', random_state=0, n_jobs=-1)\n",
    "\n",
    "ncr = NeighbourhoodCleaningRule(random_state=0, n_jobs=-1)\n",
    "smote = SMOTE(random_state=0, n_jobs=-1)\n",
    "\n",
    "# TODO: change to 3\n",
    "nn = 5\n",
    "spider_weak = SPIDER(kind='weak', n_neighbors=nn, n_jobs=-1)\n",
    "spider_relabel = SPIDER(kind='relabel', n_neighbors=nn, n_jobs=-1)\n",
    "spider_strong = SPIDER(kind='strong', n_neighbors=nn, n_jobs=-1)\n",
    "\n",
    "\n",
    "def pipeline(sampler=None):\n",
    "    if sampler:\n",
    "        X_r, y_r = sampler.fit_resample(X_tr, y_tr)\n",
    "    else:\n",
    "        X_r, y_r = X_tr, y_tr\n",
    "    logreg.fit(X_r, y_r)\n",
    "    y_pred = logreg.predict(X_te)\n",
    "    print(confusion_matrix(y_te, y_pred))\n",
    "    print(f\"Accuracy : {accuracy_score(y_te, y_pred)}\")\n",
    "    print(f\"Precision : {precision_score(y_te, y_pred)}\")\n",
    "    print(f\"Recall : {recall_score(y_te, y_pred)}\")\n",
    "    \n",
    "    if isinstance(sampler, SPIDER):\n",
    "        print(f\"Resampled: {X_r.shape} {y_r.shape} -- Train: {X_tr.shape} {y_tr.shape}\")\n",
    "        print(f\"Discarded: {sampler.discarded_}\")\n",
    "        print(f\"Relabeled: {sampler.relabeled_}\")    "
   ]
  },
  {
   "cell_type": "code",
   "execution_count": null,
   "metadata": {},
   "outputs": [],
   "source": [
    "tp / (tp + fp)"
   ]
  },
  {
   "cell_type": "markdown",
   "metadata": {},
   "source": [
    "## No Sampling"
   ]
  },
  {
   "cell_type": "code",
   "execution_count": 14,
   "metadata": {},
   "outputs": [
    {
     "name": "stdout",
     "output_type": "stream",
     "text": [
      "[[1417   23]\n",
      " [  18  102]]\n",
      "Accuracy : 0.9737179487179487\n",
      "Precision : 0.816\n",
      "Recall : 0.85\n"
     ]
    }
   ],
   "source": [
    "pipeline()"
   ]
  },
  {
   "cell_type": "code",
   "execution_count": 16,
   "metadata": {},
   "outputs": [
    {
     "data": {
      "text/plain": [
       "0.816"
      ]
     },
     "execution_count": 16,
     "metadata": {},
     "output_type": "execute_result"
    }
   ],
   "source": [
    "102 / (102 + 23)"
   ]
  },
  {
   "cell_type": "markdown",
   "metadata": {},
   "source": [
    "## SMOTE"
   ]
  },
  {
   "cell_type": "code",
   "execution_count": 7,
   "metadata": {},
   "outputs": [
    {
     "name": "stdout",
     "output_type": "stream",
     "text": [
      "[[1395   45]\n",
      " [  11  109]]\n"
     ]
    }
   ],
   "source": [
    "pipeline(smote)"
   ]
  },
  {
   "cell_type": "code",
   "execution_count": 17,
   "metadata": {},
   "outputs": [
    {
     "data": {
      "text/plain": [
       "0.7077922077922078"
      ]
     },
     "execution_count": 17,
     "metadata": {},
     "output_type": "execute_result"
    }
   ],
   "source": [
    "109 / (109 + 45)"
   ]
  },
  {
   "cell_type": "markdown",
   "metadata": {},
   "source": [
    "## NCR"
   ]
  },
  {
   "cell_type": "code",
   "execution_count": 11,
   "metadata": {},
   "outputs": [
    {
     "name": "stdout",
     "output_type": "stream",
     "text": [
      "[[1427   13]\n",
      " [  26   94]]\n"
     ]
    }
   ],
   "source": [
    "pipeline(ncr)"
   ]
  },
  {
   "cell_type": "code",
   "execution_count": 18,
   "metadata": {},
   "outputs": [
    {
     "data": {
      "text/plain": [
       "0.8785046728971962"
      ]
     },
     "execution_count": 18,
     "metadata": {},
     "output_type": "execute_result"
    }
   ],
   "source": [
    "94 / (94 + 13)"
   ]
  },
  {
   "cell_type": "markdown",
   "metadata": {},
   "source": [
    "## Weak"
   ]
  },
  {
   "cell_type": "code",
   "execution_count": 8,
   "metadata": {},
   "outputs": [
    {
     "name": "stdout",
     "output_type": "stream",
     "text": [
      "[[1428   12]\n",
      " [  29   91]]\n",
      "Resampled: (6336, 617) (6336,) -- Train: (6237, 617) (6237,)\n",
      "Discarded: [  34  207  273  386  419  467  472  718  730 1024 1047 1109 1333 1398\n",
      " 1475 1491 1525 1771 1823 1852 1854 1856 1944 1983 2032 2071 2292 2333\n",
      " 2656 2773 2782 3031 3146 3182 3215 3491 3532 3570 3665 3688 3691 3898\n",
      " 4143 4296 4323 4367 4465 4548 4631 4756 4765 4898 4957 5036 5054 5301\n",
      " 5308 5351 5471 5499 5547 5619 5714 5734 5875 5963 6006 6008 6074 6154]\n",
      "Relabeled: []\n"
     ]
    }
   ],
   "source": [
    "pipeline(spider_weak)"
   ]
  },
  {
   "cell_type": "code",
   "execution_count": 19,
   "metadata": {},
   "outputs": [
    {
     "data": {
      "text/plain": [
       "0.883495145631068"
      ]
     },
     "execution_count": 19,
     "metadata": {},
     "output_type": "execute_result"
    }
   ],
   "source": [
    "91 / (91 + 12)"
   ]
  },
  {
   "cell_type": "markdown",
   "metadata": {},
   "source": [
    "## Relabel"
   ]
  },
  {
   "cell_type": "code",
   "execution_count": 9,
   "metadata": {},
   "outputs": [
    {
     "name": "stdout",
     "output_type": "stream",
     "text": [
      "[[1430   10]\n",
      " [  28   92]]\n",
      "Resampled: (6361, 617) (6361,) -- Train: (6237, 617) (6237,)\n",
      "Discarded: [  34  207  273  386  467  472  730 1024 1047 1398 1491 1771 1852 1856\n",
      " 1944 1983 2071 2292 2333 2656 2782 3146 3182 3532 3570 4143 4323 4367\n",
      " 4465 4548 4631 4765 4957 5054 5301 5308 5351 5471 5499 5714 5734 5963\n",
      " 6006 6074 6154]\n",
      "Relabeled: [ 419  718 1109 1333 1475 1525 1823 1854 2032 2773 3031 3215 3491 3665\n",
      " 3688 3691 3898 4296 4756 4898 5036 5547 5619 5875 6008]\n"
     ]
    }
   ],
   "source": [
    "pipeline(spider_relabel)"
   ]
  },
  {
   "cell_type": "code",
   "execution_count": 20,
   "metadata": {},
   "outputs": [
    {
     "data": {
      "text/plain": [
       "0.9019607843137255"
      ]
     },
     "execution_count": 20,
     "metadata": {},
     "output_type": "execute_result"
    }
   ],
   "source": [
    "92 / (92 + 10)"
   ]
  },
  {
   "cell_type": "markdown",
   "metadata": {},
   "source": [
    "## Strong"
   ]
  },
  {
   "cell_type": "code",
   "execution_count": 10,
   "metadata": {},
   "outputs": [
    {
     "name": "stdout",
     "output_type": "stream",
     "text": [
      "[[1431    9]\n",
      " [  32   88]]\n",
      "Resampled: (6701, 617) (6701,) -- Train: (6237, 617) (6237,)\n",
      "Discarded: [  34   95  207  273  386  467  472  523  730  749 1024 1047 1289 1376\n",
      " 1398 1491 1670 1771 1852 1856 1944 1983 2071 2292 2333 2401 2656 2782\n",
      " 3146 3182 3342 3532 3544 3570 3634 3647 4143 4323 4367 4373 4465 4473\n",
      " 4548 4631 4634 4765 4923 4957 5054 5301 5308 5351 5471 5499 5714 5734\n",
      " 5795 5840 5963 6006 6074 6154]\n",
      "Relabeled: []\n"
     ]
    }
   ],
   "source": [
    "pipeline(spider_strong)"
   ]
  },
  {
   "cell_type": "code",
   "execution_count": 21,
   "metadata": {},
   "outputs": [
    {
     "data": {
      "text/plain": [
       "0.9072164948453608"
      ]
     },
     "execution_count": 21,
     "metadata": {},
     "output_type": "execute_result"
    }
   ],
   "source": [
    "88 / (88 + 9)"
   ]
  },
  {
   "cell_type": "code",
   "execution_count": null,
   "metadata": {},
   "outputs": [],
   "source": []
  }
 ],
 "metadata": {
  "kernelspec": {
   "display_name": "Python 3",
   "language": "python",
   "name": "python3"
  },
  "language_info": {
   "codemirror_mode": {
    "name": "ipython",
    "version": 3
   },
   "file_extension": ".py",
   "mimetype": "text/x-python",
   "name": "python",
   "nbconvert_exporter": "python",
   "pygments_lexer": "ipython3",
   "version": "3.7.3"
  }
 },
 "nbformat": 4,
 "nbformat_minor": 2
}
