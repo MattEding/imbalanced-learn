{
 "cells": [
  {
   "cell_type": "code",
   "execution_count": 2,
   "metadata": {
    "scrolled": false
   },
   "outputs": [
    {
     "name": "stdout",
     "output_type": "stream",
     "text": [
      "Collection of imbalanced datasets.\n",
      "\n",
      "This collection of datasets has been proposed in [1]_. The\n",
      "characteristics of the available datasets are presented in the table\n",
      "below.\n",
      "\n",
      " ID    Name           Repository & Target           Ratio  #S       #F\n",
      " 1     ecoli          UCI, target: imU              8.6:1  336      7\n",
      " 2     optical_digits UCI, target: 8                9.1:1  5,620    64\n",
      " 3     satimage       UCI, target: 4                9.3:1  6,435    36\n",
      " 4     pen_digits     UCI, target: 5                9.4:1  10,992   16\n",
      " 5     abalone        UCI, target: 7                9.7:1  4,177    10\n",
      " 6     sick_euthyroid UCI, target: sick euthyroid   9.8:1  3,163    42\n",
      " 7     spectrometer   UCI, target: >=44             11:1   531      93\n",
      " 8     car_eval_34    UCI, target: good, v good     12:1   1,728    21\n",
      " 9     isolet         UCI, target: A, B             12:1   7,797    617\n",
      " 10    us_crime       UCI, target: >0.65            12:1   1,994    100\n",
      " 11    yeast_ml8      LIBSVM, target: 8             13:1   2,417    103\n",
      " 12    scene          LIBSVM, target: >one label    13:1   2,407    294\n",
      " 13    libras_move    UCI, target: 1                14:1   360      90\n",
      " 14    thyroid_sick   UCI, target: sick             15:1   3,772    52\n",
      " 15    coil_2000      KDD, CoIL, target: minority   16:1   9,822    85\n",
      " 16    arrhythmia     UCI, target: 06               17:1   452      278\n",
      " 17    solar_flare_m0 UCI, target: M->0             19:1   1,389    32\n",
      " 18    oil            UCI, target: minority         22:1   937      49\n",
      " 19    car_eval_4     UCI, target: vgood            26:1   1,728    21\n",
      " 20    wine_quality   UCI, wine, target: <=4        26:1   4,898    11\n",
      " 21    letter_img     UCI, target: Z                26:1   20,000   16\n",
      " 22    yeast_me2      UCI, target: ME2              28:1   1,484    8\n",
      " 23    webpage        LIBSVM, w7a, target: minority 33:1   34,780   300\n",
      " 24    ozone_level    UCI, ozone, data              34:1   2,536    72\n",
      " 25    mammography    UCI, target: minority         42:1   11,183   6\n",
      " 26    protein_homo   KDD CUP 2004, minority        111:1  145,751  74\n",
      " 27    abalone_19     UCI, target: 19               130:1  4,177    10\n",
      "\n",
      "References\n",
      "----------\n",
      ".. [1] Ding, Zejin, \"Diversified Ensemble Classifiers for Highly\n",
      "   Imbalanced Data Learning and their Application in Bioinformatics.\"\n",
      "   Dissertation, Georgia State University, (2011).\n",
      "\n",
      "\n"
     ]
    }
   ],
   "source": [
    "import imblearn.datasets._zenodo as zenodo\n",
    "print(zenodo.__doc__)"
   ]
  },
  {
   "cell_type": "code",
   "execution_count": 123,
   "metadata": {},
   "outputs": [],
   "source": [
    "from time import time\n",
    "from pathlib import Path\n",
    "\n",
    "import numpy as np\n",
    "import pandas as pd\n",
    "import scipy.sparse as sp\n",
    "\n",
    "import matplotlib.pyplot as plt\n",
    "import seaborn as sns\n",
    "\n",
    "from sklearn.linear_model import LogisticRegression\n",
    "from sklearn.model_selection import train_test_split\n",
    "from sklearn.metrics import confusion_matrix, accuracy_score, precision_score, recall_score, roc_auc_score\n",
    "\n",
    "from imblearn.datasets import fetch_datasets\n",
    "from imblearn.under_sampling import NeighbourhoodCleaningRule, TomekLinks, EditedNearestNeighbours\n",
    "from imblearn.over_sampling import SMOTE, ADASYN\n",
    "from imblearn.combine import SPIDER\n",
    "from imblearn.metrics import specificity_score"
   ]
  },
  {
   "cell_type": "code",
   "execution_count": 4,
   "metadata": {},
   "outputs": [],
   "source": [
    "def benchmark(id):\n",
    "    def pipeline(sampler=None):\n",
    "        t0 = time()\n",
    "        if sampler:\n",
    "            X_resampled, y_resampled = sampler.fit_resample(X_train, y_train)\n",
    "        else:\n",
    "            X_resampled, y_resampled = X_train, y_train\n",
    "        t1 = time()\n",
    "\n",
    "        logreg.fit(X_resampled, y_resampled)\n",
    "        y_pred = logreg.predict(X_test)\n",
    "        y_score = logreg.decision_function(X_test)\n",
    "\n",
    "        conf_mtx = confusion_matrix(y_test, y_pred)\n",
    "        roc_auc = roc_auc_score(y_test, y_score)\n",
    "\n",
    "        accuracy = accuracy_score(y_test, y_pred)\n",
    "        precision = precision_score(y_test, y_pred)\n",
    "        recall = recall_score(y_test, y_pred)\n",
    "        specificity = specificity_score(y_test, y_pred)\n",
    "\n",
    "        return dict(\n",
    "            accuracy=accuracy,\n",
    "            precision=precision,\n",
    "            recall=recall,\n",
    "            specificity=specificity,\n",
    "            roc_auc=roc_auc,\n",
    "            conf_mtx=conf_mtx,\n",
    "            size=y_resampled.shape[0],\n",
    "            time=(t1 - t0),\n",
    "        )\n",
    "    \n",
    "    \n",
    "    name = list(fetch_datasets())[id-1]\n",
    "    dataset = fetch_datasets()[name]\n",
    "    \n",
    "    X, y = dataset.data, dataset.target\n",
    "    X_train, X_test, y_train, y_test = train_test_split(X, y, test_size=0.2, stratify=y, random_state=0)\n",
    "\n",
    "    logreg = LogisticRegression(solver='lbfgs', random_state=0, n_jobs=-1)\n",
    "\n",
    "    ncr = NeighbourhoodCleaningRule(random_state=0, n_jobs=-1)\n",
    "    tomek = TomekLinks(random_state=0, n_jobs=-1)\n",
    "    enn = EditedNearestNeighbours(random_state=0, n_jobs=-1)\n",
    "    \n",
    "    smote = SMOTE(random_state=0, n_jobs=-1)\n",
    "    adasyn = ADASYN(random_state=0, n_jobs=-1)\n",
    "    \n",
    "    weak = SPIDER(kind='weak', n_jobs=-1)\n",
    "    relabel = SPIDER(kind='relabel', n_jobs=-1)\n",
    "    strong = SPIDER(kind='strong', n_jobs=-1)\n",
    "\n",
    "    results_none = pipeline()\n",
    "    results_smote = pipeline(smote)\n",
    "    results_adasyn = pipeline(adasyn)\n",
    "    results_ncr = pipeline(ncr)\n",
    "    results_tomek = pipeline(tomek)\n",
    "    results_enn = pipeline(enn)\n",
    "    results_weak = pipeline(weak)\n",
    "    results_relabel = pipeline(relabel)\n",
    "    results_strong = pipeline(strong)\n",
    "\n",
    "    results_list =  [\n",
    "        results_none,\n",
    "        results_smote, results_adasyn,\n",
    "        results_ncr, results_tomek, results_enn,\n",
    "        results_weak, results_relabel, results_strong,\n",
    "    ]\n",
    "\n",
    "    accuracies =    [r['accuracy'] for r in results_list]\n",
    "    precisions =    [r['precision'] for r in results_list]\n",
    "    recalls =       [r['recall'] for r in results_list]\n",
    "    specificities = [r['specificity'] for r in results_list]\n",
    "    roc_aucs =      [r['roc_auc'] for r in results_list]\n",
    "    sizes =         [r['size'] for r in results_list]\n",
    "    times =         [r['time'] for r in results_list]\n",
    "\n",
    "    conf_mtxs = np.vstack([r['conf_mtx'].ravel() for r in results_list])\n",
    "    tns = conf_mtxs[:, 0]\n",
    "    fps = conf_mtxs[:, 1]\n",
    "    fns = conf_mtxs[:, 2]\n",
    "    tps = conf_mtxs[:, 3]\n",
    "\n",
    "    results_dict = dict(\n",
    "        accuracy=accuracies,\n",
    "        precision=precisions,\n",
    "        recall=recalls,\n",
    "        specificity=specificities,\n",
    "        roc_auc=roc_aucs,\n",
    "        tp=tps,\n",
    "        fp=fps,\n",
    "        tn=tns,\n",
    "        fn=fns,\n",
    "        size=sizes,\n",
    "        time=times,\n",
    "    )\n",
    "\n",
    "    index = pd.Index([\n",
    "        'none',\n",
    "        'smote', 'adasyn',\n",
    "        'ncr', 'tomek', 'enn',\n",
    "        'weak', 'relabel', 'strong'\n",
    "    ], name=dataset.DESCR)\n",
    "    results_df = pd.DataFrame(results_dict, index=index)\n",
    "\n",
    "    results_df.to_pickle(f'../benchmark_{dataset.DESCR}.pkl')\n",
    "    return results_df"
   ]
  },
  {
   "cell_type": "markdown",
   "metadata": {},
   "source": [
    "#### Notes\n",
    "- NCR and SPIDER (Weak & Relabel) are roughly same time complexity\n",
    "    - O(n^2)?\n",
    "    - NVM probably knn_correct since Strong is affected twice NVM\n",
    "    - locate_neighbors is O(n^2) and the knn_corrects call loc_neigh with larger X's?\n",
    "- SPIDER (Strong) is ~2x slower"
   ]
  },
  {
   "cell_type": "code",
   "execution_count": 131,
   "metadata": {},
   "outputs": [
    {
     "name": "stdout",
     "output_type": "stream",
     "text": [
      "ls: *pkl: No such file or directory\r\n"
     ]
    }
   ],
   "source": [
    "!ls \"*pkl\""
   ]
  },
  {
   "cell_type": "code",
   "execution_count": 128,
   "metadata": {},
   "outputs": [
    {
     "data": {
      "text/plain": [
       "[]"
      ]
     },
     "execution_count": 128,
     "metadata": {},
     "output_type": "execute_result"
    }
   ],
   "source": [
    "cwd = Path.cwd()\n",
    "[file for file in cwd.parent.iterdir() if file.suffix == 'pkl']"
   ]
  },
  {
   "cell_type": "code",
   "execution_count": 122,
   "metadata": {},
   "outputs": [
    {
     "name": "stdout",
     "output_type": "stream",
     "text": [
      "            accuracy  precision    recall  specificity\n",
      "car_eval_4                                            \n",
      "none        0.979769   0.800000  0.615385     0.993994\n",
      "smote       0.965318   0.520000  1.000000     0.963964\n",
      "ncr         0.979769   0.800000  0.615385     0.993994\n",
      "weak        0.979769   0.666667  0.923077     0.981982\n",
      "relabel     0.979769   0.666667  0.923077     0.981982\n",
      "strong      0.973988   0.590909  1.000000     0.972973\n"
     ]
    },
    {
     "data": {
      "image/png": "[encoded data removed]",
      "text/plain": [
       "<Figure size 2520x840 with 1 Axes>"
      ]
     },
     "metadata": {},
     "output_type": "display_data"
    }
   ],
   "source": [
    "df = pd.read_pickle('../benchmark_car_eval_4.pkl')\n",
    "\n",
    "# todo: output CSV\n",
    "methods = ['none', 'smote', 'ncr', 'weak', 'relabel', 'strong']\n",
    "metrics = ['accuracy', 'precision', 'recall', 'specificity']\n",
    "print(df.loc[methods, metrics])\n",
    "\n",
    "def plot_benchmark(df, save=True):\n",
    "    palette = sns.diverging_palette(255, 133, l=60, n=6, center=\"dark\")\n",
    "    # palette = 'inferno'\n",
    "    sns.set_style('darkgrid')\n",
    "    sns.set_palette(palette)\n",
    "    title = \" \".join(df.index.name.split(\"_\")).title()\n",
    "    name = df.index.name\n",
    "    df.index.name = None\n",
    "    fig = plt.figure(dpi=140)\n",
    "    df.loc[methods, metrics].T.plot.bar(figsize=(18, 6), title=title, rot=0, ax=plt.gca())\n",
    "    plt.xlabel('Metric')\n",
    "    plt.ylabel('Score')\n",
    "    if save:\n",
    "        plt.savefig(f'../benchmark_{name}.png', bbox_inches='tight')"
   ]
  },
  {
   "cell_type": "code",
   "execution_count": 39,
   "metadata": {},
   "outputs": [],
   "source": [
    "df.append?"
   ]
  },
  {
   "cell_type": "code",
   "execution_count": 81,
   "metadata": {},
   "outputs": [
    {
     "name": "stdout",
     "output_type": "stream",
     "text": [
      "../benchmark_abalone.pkl         ../benchmark_ozone_level.pkl\r\n",
      "../benchmark_abalone_19.pkl      ../benchmark_pen_digits.pkl\r\n",
      "../benchmark_arrhythmia.pkl      ../benchmark_satimage.pkl\r\n",
      "../benchmark_car_eval_34.pkl     ../benchmark_scene.pkl\r\n",
      "../benchmark_car_eval_4.pkl      ../benchmark_sick_euthyroid.pkl\r\n",
      "../benchmark_coil_2000.pkl       ../benchmark_solar_flare_m0.pkl\r\n",
      "../benchmark_ecoli.pkl           ../benchmark_spectrometer.pkl\r\n",
      "../benchmark_isolet.pkl          ../benchmark_thyroid_sick.pkl\r\n",
      "../benchmark_letter_img.pkl      ../benchmark_us_crime.pkl\r\n",
      "../benchmark_libras_move.pkl     ../benchmark_webpage.pkl\r\n",
      "../benchmark_mammography.pkl     ../benchmark_wine_quality.pkl\r\n",
      "../benchmark_oil.pkl             ../benchmark_yeast_me2.pkl\r\n",
      "../benchmark_optical_digits.pkl  ../benchmark_yeast_ml8.pkl\r\n"
     ]
    }
   ],
   "source": [
    "ls ../benchmark*"
   ]
  },
  {
   "cell_type": "code",
   "execution_count": null,
   "metadata": {},
   "outputs": [],
   "source": [
    "# a\n",
    "# c    [tn 0    fp 1]\n",
    "# t    [fn 2    tp 3]\n",
    "# u\n",
    "# a   predicted\n",
    "# l"
   ]
  },
  {
   "cell_type": "code",
   "execution_count": null,
   "metadata": {},
   "outputs": [],
   "source": []
  },
  {
   "cell_type": "markdown",
   "metadata": {},
   "source": [
    "## Sparse\n",
    "Same results, just in a different order"
   ]
  },
  {
   "cell_type": "code",
   "execution_count": 156,
   "metadata": {},
   "outputs": [],
   "source": [
    "from sklearn.utils import safe_mask, safe_indexing"
   ]
  },
  {
   "cell_type": "code",
   "execution_count": 210,
   "metadata": {},
   "outputs": [
    {
     "data": {
      "text/plain": [
       "True"
      ]
     },
     "execution_count": 210,
     "metadata": {},
     "output_type": "execute_result"
    }
   ],
   "source": [
    "name = 'wine_quality'\n",
    "dataset = fetch_datasets()[name]\n",
    "\n",
    "X, y = dataset.data, dataset.target\n",
    "X_train, X_test, y_train, y_test = train_test_split(X, y, test_size=0.2, stratify=y, random_state=0)\n",
    "\n",
    "Xspr, yspr = weak.fit_resample(sp.lil_matrix(X_train), y_train)\n",
    "Xspr = Xspr.toarray()\n",
    "\n",
    "Xarr, yarr = weak.fit_resample(X_train, y_train)\n",
    "\n",
    "Xarr.sort(axis=0)\n",
    "Xspr.sort(axis=0)\n",
    "\n",
    "np.isclose(Xspr, Xarr).all()"
   ]
  },
  {
   "cell_type": "code",
   "execution_count": 243,
   "metadata": {},
   "outputs": [],
   "source": [
    "amplify_amounts = np.array([1, 0, 0, 3, 2])\n",
    "X = np.arange(len(amplify_amounts))[:, np.newaxis]\n",
    "y = np.array([0, 0, 1, 1, 0])"
   ]
  },
  {
   "cell_type": "code",
   "execution_count": 245,
   "metadata": {},
   "outputs": [],
   "source": [
    "X = sp.lil_matrix(X)"
   ]
  },
  {
   "cell_type": "code",
   "execution_count": 246,
   "metadata": {},
   "outputs": [],
   "source": [
    "if sp.issparse(X):\n",
    "    X_parts = []\n",
    "    y_parts = []\n",
    "    for amount in filter(bool, np.unique(amplify_amounts)):\n",
    "        mask = safe_mask(X, amplify_amounts == amount)\n",
    "        X_part = X[mask]\n",
    "        y_part = y[mask]\n",
    "        X_parts.extend([X_part] * amount)\n",
    "        y_parts.extend([y_part] * amount)\n",
    "    X_spr = sp.vstack(X_parts)\n",
    "    X_spr = X_spr.toarray()\n",
    "    y_spr = np.hstack(y_parts)\n",
    "else:\n",
    "    X_new = np.repeat(X, amplify_amounts, axis=0)\n",
    "    y_new = np.repeat(y, amplify_amounts)"
   ]
  },
  {
   "cell_type": "code",
   "execution_count": 247,
   "metadata": {},
   "outputs": [
    {
     "data": {
      "text/plain": [
       "array([[0],\n",
       "       [3],\n",
       "       [3],\n",
       "       [3],\n",
       "       [4],\n",
       "       [4]])"
      ]
     },
     "execution_count": 247,
     "metadata": {},
     "output_type": "execute_result"
    }
   ],
   "source": [
    "X_new"
   ]
  },
  {
   "cell_type": "code",
   "execution_count": 248,
   "metadata": {},
   "outputs": [
    {
     "data": {
      "text/plain": [
       "array([[0],\n",
       "       [4],\n",
       "       [4],\n",
       "       [3],\n",
       "       [3],\n",
       "       [3]], dtype=int64)"
      ]
     },
     "execution_count": 248,
     "metadata": {},
     "output_type": "execute_result"
    }
   ],
   "source": [
    "X_spr"
   ]
  },
  {
   "cell_type": "code",
   "execution_count": 249,
   "metadata": {},
   "outputs": [
    {
     "data": {
      "text/plain": [
       "array([0, 1, 1, 1, 0, 0])"
      ]
     },
     "execution_count": 249,
     "metadata": {},
     "output_type": "execute_result"
    }
   ],
   "source": [
    "y_new"
   ]
  },
  {
   "cell_type": "code",
   "execution_count": 250,
   "metadata": {},
   "outputs": [
    {
     "data": {
      "text/plain": [
       "array([0, 0, 0, 1, 1, 1])"
      ]
     },
     "execution_count": 250,
     "metadata": {},
     "output_type": "execute_result"
    }
   ],
   "source": [
    "y_spr"
   ]
  },
  {
   "cell_type": "code",
   "execution_count": 238,
   "metadata": {},
   "outputs": [
    {
     "data": {
      "text/plain": [
       "array([[0],\n",
       "       [3],\n",
       "       [3],\n",
       "       [3],\n",
       "       [4],\n",
       "       [4]])"
      ]
     },
     "execution_count": 238,
     "metadata": {},
     "output_type": "execute_result"
    }
   ],
   "source": [
    "np.sort(X_new, axis=0)"
   ]
  },
  {
   "cell_type": "code",
   "execution_count": 265,
   "metadata": {},
   "outputs": [
    {
     "data": {
      "text/plain": [
       "array([[0],\n",
       "       [3],\n",
       "       [3],\n",
       "       [3],\n",
       "       [4],\n",
       "       [4]], dtype=int64)"
      ]
     },
     "execution_count": 265,
     "metadata": {},
     "output_type": "execute_result"
    }
   ],
   "source": [
    "np.sort(X_spr, axis=0)"
   ]
  },
  {
   "cell_type": "code",
   "execution_count": 263,
   "metadata": {},
   "outputs": [
    {
     "data": {
      "text/plain": [
       "array([0, 1, 1, 1, 0, 0])"
      ]
     },
     "execution_count": 263,
     "metadata": {},
     "output_type": "execute_result"
    }
   ],
   "source": [
    "y_new[np.argsort(X_new, axis=0).ravel()]"
   ]
  },
  {
   "cell_type": "code",
   "execution_count": 264,
   "metadata": {},
   "outputs": [
    {
     "data": {
      "text/plain": [
       "array([0, 1, 1, 1, 0, 0])"
      ]
     },
     "execution_count": 264,
     "metadata": {},
     "output_type": "execute_result"
    }
   ],
   "source": [
    "y_spr[np.argsort(X_spr, axis=0).ravel()]"
   ]
  },
  {
   "cell_type": "code",
   "execution_count": null,
   "metadata": {},
   "outputs": [],
   "source": []
  }
 ],
 "metadata": {
  "kernelspec": {
   "display_name": "Python 3",
   "language": "python",
   "name": "python3"
  }
 },
 "nbformat": 4,
 "nbformat_minor": 2
}
